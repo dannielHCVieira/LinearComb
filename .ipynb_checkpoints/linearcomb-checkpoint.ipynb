{
 "cells": [
  {
   "cell_type": "code",
   "execution_count": 1,
   "metadata": {},
   "outputs": [
    {
     "name": "stdout",
     "output_type": "stream",
     "text": [
      "\n",
      "step  1 :\n",
      "2 -1 -3 0\n",
      "-1 2 -3 0\n",
      "1 1 4 0\n",
      "\n",
      "step  2 :\n",
      "2 -1 -3 0\n",
      "0.0 1.5 -4.5 0.0\n",
      "0.0 1.5 5.5 0.0\n",
      "\n",
      "step  3 :\n",
      "2.0 0.0 -6.0 0.0\n",
      "0.0 1.5 -4.5 0.0\n",
      "0.0 0.0 10.0 0.0\n",
      "Final Augmented Matrix is : \n",
      "2.0 0.0 0.0 0.0\n",
      "0.0 1.5 0.0 0.0\n",
      "0.0 0.0 10.0 0.0\n",
      "\n",
      "Result is : \n",
      "0.0 0.0 0.0 "
     ]
    }
   ],
   "source": [
    "# Python3 Implementation for Gauss-Jordan\n",
    "# Elimination Method\n",
    "M = 10\n",
    "\n",
    "# Function to print the matrix\n",
    "def PrintMatrix(a, n):\n",
    "\tfor i in range(n):\n",
    "\t\tprint(*a[i])\n",
    "\n",
    "# function to reduce matrix to reduced\n",
    "# row echelon form.\n",
    "def PerformOperation(a, n):\n",
    "\ti = 0\n",
    "\tj = 0\n",
    "\tk = 0\n",
    "\tc = 0\n",
    "\tflag = 0\n",
    "\tm = 0\n",
    "\tpro = 0\n",
    "\n",
    "\t# Performing elementary operations\n",
    "\tfor i in range(n):\n",
    "\t\tprint(\"\\nstep \", str(i+1), \":\")\n",
    "\t\tPrintMatrix(a,n)\n",
    "\t\tif (a[i][i] == 0):\n",
    "\n",
    "\t\t\tc = 1\n",
    "\t\t\twhile ((i + c) < n and a[i + c][i] == 0):\n",
    "\t\t\t\tc += 1\n",
    "\t\t\tif ((i + c) == n):\n",
    "\n",
    "\t\t\t\tflag = 1\n",
    "\t\t\t\tbreak\n",
    "\n",
    "\t\t\tj = i\n",
    "\t\t\tfor k in range(1 + n):\n",
    "\n",
    "\t\t\t\ttemp = a[j][k]\n",
    "\t\t\t\ta[j][k] = a[j+c][k]\n",
    "\t\t\t\ta[j+c][k] = temp\n",
    "\n",
    "\t\tfor j in range(n):\n",
    "            \n",
    "\t\t\t# Excluding all i == j\n",
    "\t\t\tif (i != j):\n",
    "\t\t\t\t# Converting Matrix to reduced row\n",
    "\t\t\t\t# echelon form(diagonal matrix)\n",
    "\t\t\t\tp = a[j][i] / a[i][i]\n",
    "\n",
    "\t\t\t\tk = 0\n",
    "\t\t\t\tfor k in range(n + 1):\n",
    "\t\t\t\t\ta[j][k] = a[j][k] - (a[i][k]) * p\n",
    "\t\t\t\t\n",
    "\n",
    "\treturn flag\n",
    "\n",
    "# Function to print the desired result\n",
    "# if unique solutions exists, otherwise\n",
    "# prints no solution or infinite solutions\n",
    "# depending upon the input given.\n",
    "def PrintResult(a, n, flag):\n",
    "\n",
    "\tprint(\"Result is : \")\n",
    "\n",
    "\tif (flag == 2):\n",
    "\t\tprint(\"Infinite Solutions Exists<br>\")\n",
    "\telif (flag == 3):\n",
    "\t\tprint(\"No Solution Exists<br>\")\n",
    "\n",
    "\t# Printing the solution by dividing constants by\n",
    "\t# their respective diagonal elements\n",
    "\telse:\n",
    "\t\tfor i in range(n):\n",
    "\t\t\tprint(a[i][n] / a[i][i], end=\" \")\n",
    "\n",
    "# To check whether infinite solutions\n",
    "# exists or no solution exists\n",
    "def CheckConsistency(a, n, flag):\n",
    "\n",
    "\t# flag == 2 for infinite solution\n",
    "\t# flag == 3 for No solution\n",
    "\tflag = 3\n",
    "\tfor i in range(n):\n",
    "\t\tsum = 0\n",
    "\t\tfor j in range(n):\n",
    "\t\t\tsum = sum + a[i][j]\n",
    "\t\tif (sum == a[i][j]):\n",
    "\t\t\tflag = 2\n",
    "\n",
    "\treturn flag\n",
    "\n",
    "# Driver code\n",
    "a = [[2, -1, -3, 0], [-1, 2, -3, 0], [1,1, 4, 0]]\n",
    "\n",
    "# Order of Matrix(n)\n",
    "n = 3\n",
    "flag = 0\n",
    "\n",
    "# Performing Matrix transformation\n",
    "flag = PerformOperation(a, n)\n",
    "\n",
    "if (flag == 1):\n",
    "\tflag = CheckConsistency(a, n, flag)\n",
    "\n",
    "# Printing Final Matrix\n",
    "print(\"Final Augmented Matrix is : \")\n",
    "PrintMatrix(a, n)\n",
    "print()\n",
    "\n",
    "# Printing Solutions(if exist)\n",
    "PrintResult(a, n, flag)\n",
    "\n",
    "# This code is contributed by phasing17\n"
   ]
  },
  {
   "attachments": {},
   "cell_type": "markdown",
   "metadata": {},
   "source": [
    "## IPywidgets Screen"
   ]
  },
  {
   "cell_type": "code",
   "execution_count": 6,
   "metadata": {},
   "outputs": [
    {
     "data": {
      "application/vnd.jupyter.widget-view+json": {
       "model_id": "10e011421a2d4d309f879de4b490e97b",
       "version_major": 2,
       "version_minor": 0
      },
      "text/plain": [
       "GridBox(children=(FloatText(value=0.0, layout=Layout(width='auto')), FloatText(value=0.0, layout=Layout(width=…"
      ]
     },
     "metadata": {},
     "output_type": "display_data"
    },
    {
     "data": {
      "application/vnd.jupyter.widget-view+json": {
       "model_id": "5bd9dc7e2bf4417d9986de1297d3db4f",
       "version_major": 2,
       "version_minor": 0
      },
      "text/plain": [
       "Button(description='Expand Grid', style=ButtonStyle())"
      ]
     },
     "metadata": {},
     "output_type": "display_data"
    }
   ],
   "source": [
    "import ipywidgets as widgets\n",
    "from IPython.display import display, clear_output\n",
    "\n",
    "class DynamicGrid:\n",
    "    def __init__(self, N):\n",
    "        self.N = N\n",
    "        self.grid = self.create_grid(self.N)\n",
    "        self.button = widgets.Button(description=\"Expand Grid\")\n",
    "        self.button.on_click(self.expand_grid)\n",
    "        display(self.grid, self.button)\n",
    "\n",
    "    def create_grid(self, N):\n",
    "        grid = widgets.GridBox(children=[\n",
    "            widgets.FloatText(value=0.0, layout=widgets.Layout(width='auto')) for i in range(N*N)\n",
    "        ], layout=widgets.Layout(grid_template_columns=\"repeat({0}, 100px)\".format(N), grid_gap='5px'))\n",
    "        return grid\n",
    "\n",
    "    def expand_grid(self, button):\n",
    "        self.N += 1\n",
    "        self.grid = self.create_grid(self.N)\n",
    "        clear_output(wait=True)\n",
    "        display(self.grid, self.button)\n",
    "        print(self.N)\n",
    "\n",
    "# Create an instance of the dynamic grid with initial size 3x3\n",
    "grid = DynamicGrid(3)\n"
   ]
  },
  {
   "attachments": {},
   "cell_type": "markdown",
   "metadata": {},
   "source": []
  },
  {
   "cell_type": "code",
   "execution_count": 7,
   "metadata": {},
   "outputs": [
    {
     "data": {
      "application/vnd.jupyter.widget-view+json": {
       "model_id": "7c4c1f8893e1407fb02c38a29750a520",
       "version_major": 2,
       "version_minor": 0
      },
      "text/plain": [
       "Output()"
      ]
     },
     "metadata": {},
     "output_type": "display_data"
    },
    {
     "data": {
      "application/vnd.jupyter.widget-view+json": {
       "model_id": "094286b51a8e4d1dbef9014b02f41cdd",
       "version_major": 2,
       "version_minor": 0
      },
      "text/plain": [
       "Button(description='Expand Grid', style=ButtonStyle())"
      ]
     },
     "metadata": {},
     "output_type": "display_data"
    }
   ],
   "source": [
    "import ipywidgets as widgets\n",
    "from IPython.display import display, clear_output\n",
    "\n",
    "# Grid container\n",
    "grid_container = widgets.Output()\n",
    "\n",
    "# Initial grid size\n",
    "N = 3\n",
    "\n",
    "def create_grid(N):\n",
    "    return widgets.GridBox(\n",
    "        children=[\n",
    "            widgets.FloatText(value=0.0, layout=widgets.Layout(width='auto')) for i in range(N*N)\n",
    "        ],\n",
    "        layout=widgets.Layout(grid_template_columns=\"repeat({0}, 100px)\".format(N), grid_gap='5px')\n",
    "    )\n",
    "\n",
    "def expand_grid(button):\n",
    "    global N\n",
    "    N += 1\n",
    "    with grid_container:\n",
    "        clear_output(wait=True)\n",
    "        display(create_grid(N))\n",
    "\n",
    "# Button to expand grid\n",
    "expand_button = widgets.Button(description=\"Expand Grid\")\n",
    "expand_button.on_click(expand_grid)\n",
    "\n",
    "# Display initial grid and button\n",
    "with grid_container:\n",
    "    display(create_grid(N))\n",
    "\n",
    "display(grid_container, expand_button)\n"
   ]
  },
  {
   "cell_type": "code",
   "execution_count": 30,
   "metadata": {},
   "outputs": [
    {
     "data": {
      "application/vnd.jupyter.widget-view+json": {
       "model_id": "d7413d72e3f2452682475dc9dc1ffdf4",
       "version_major": 2,
       "version_minor": 0
      },
      "text/plain": [
       "Output()"
      ]
     },
     "metadata": {},
     "output_type": "display_data"
    },
    {
     "data": {
      "application/vnd.jupyter.widget-view+json": {
       "model_id": "9c4573d164ee4bbf9ddbb73bdbb86643",
       "version_major": 2,
       "version_minor": 0
      },
      "text/plain": [
       "Button(description='Expand Grid', style=ButtonStyle())"
      ]
     },
     "metadata": {},
     "output_type": "display_data"
    },
    {
     "data": {
      "application/vnd.jupyter.widget-view+json": {
       "model_id": "9d09d7d5b45c49c1981f4fe62239a626",
       "version_major": 2,
       "version_minor": 0
      },
      "text/plain": [
       "Button(description='Reduce Grid', style=ButtonStyle())"
      ]
     },
     "metadata": {},
     "output_type": "display_data"
    }
   ],
   "source": [
    "import ipywidgets as widgets\n",
    "from IPython.display import display, clear_output\n",
    "\n",
    "# Grid container\n",
    "grid_container = widgets.Output()\n",
    "\n",
    "# Initial grid size\n",
    "N = 3\n",
    "\n",
    "# Matrix Value\n",
    "init_matrix = [[0]*N for _ in range(N)]\n",
    "\n",
    "def create_grid(N):\n",
    "    children = []\n",
    "    for i in range(N):\n",
    "        for j in range(N):\n",
    "            children.append(widgets.FloatText(value=init_matrix[i][j], layout=widgets.Layout(width='auto')))\n",
    "            if j == N -2:\n",
    "                children.append(widgets.Label(value=f'x{j+1} ='))\n",
    "            elif j < N - 2:\n",
    "                children.append(widgets.Label(value=f'x{j+1} +'))\n",
    "            else:\n",
    "                children.append(widgets.Label(value=\"\"))\n",
    "    return widgets.GridBox(\n",
    "        children=children,\n",
    "        layout=widgets.Layout(grid_template_columns=\"repeat({0}, 70px)\".format(N*2), grid_gap='5px')\n",
    "    )\n",
    "\n",
    "def expand_grid(button):\n",
    "    global N\n",
    "    N += 1\n",
    "    with grid_container:\n",
    "        clear_output(wait=True)\n",
    "        display(create_grid(N))\n",
    "\n",
    "def reduce_grid(button):\n",
    "    global N\n",
    "    N -= 1\n",
    "    with grid_container:\n",
    "        clear_output(wait=True)\n",
    "        display(create_grid(N))\n",
    "\n",
    "# Button to expand grid, reduce grid\n",
    "expand_button = widgets.Button(description=\"Expand Grid\")\n",
    "expand_button.on_click(expand_grid)\n",
    "reduce_button = widgets.Button(description=\"Reduce Grid\")\n",
    "reduce_button.on_click(reduce_grid)\n",
    "\n",
    "# Display initial grid and button\n",
    "with grid_container:\n",
    "    display(create_grid(N))\n",
    "\n",
    "display(grid_container, expand_button, reduce_button)\n"
   ]
  },
  {
   "cell_type": "code",
   "execution_count": null,
   "metadata": {},
   "outputs": [],
   "source": []
  },
  {
   "cell_type": "code",
   "execution_count": null,
   "metadata": {},
   "outputs": [],
   "source": []
  },
  {
   "cell_type": "code",
   "execution_count": null,
   "metadata": {},
   "outputs": [],
   "source": []
  }
 ],
 "metadata": {
  "kernelspec": {
   "display_name": "Python 3 (ipykernel)",
   "language": "python",
   "name": "python3"
  },
  "language_info": {
   "codemirror_mode": {
    "name": "ipython",
    "version": 3
   },
   "file_extension": ".py",
   "mimetype": "text/x-python",
   "name": "python",
   "nbconvert_exporter": "python",
   "pygments_lexer": "ipython3",
   "version": "3.9.6"
  }
 },
 "nbformat": 4,
 "nbformat_minor": 4
}
