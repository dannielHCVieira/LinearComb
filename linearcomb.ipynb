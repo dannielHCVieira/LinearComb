{
 "cells": [
  {
   "attachments": {},
   "cell_type": "markdown",
   "metadata": {},
   "source": [
    "## IPywidgets Screen"
   ]
  },
  {
   "cell_type": "code",
   "execution_count": 6,
   "metadata": {},
   "outputs": [
    {
     "data": {
      "application/vnd.jupyter.widget-view+json": {
       "model_id": "a96c46155fbf4b90bcd24fcba7392470",
       "version_major": 2,
       "version_minor": 0
      },
      "text/plain": [
       "Output()"
      ]
     },
     "metadata": {},
     "output_type": "display_data"
    },
    {
     "data": {
      "application/vnd.jupyter.widget-view+json": {
       "model_id": "c302921f45d04a24bc27aaaec32b2d40",
       "version_major": 2,
       "version_minor": 0
      },
      "text/plain": [
       "Button(description='Expand Grid', style=ButtonStyle())"
      ]
     },
     "metadata": {},
     "output_type": "display_data"
    },
    {
     "data": {
      "application/vnd.jupyter.widget-view+json": {
       "model_id": "02eebc251422496e8aa23559cef02673",
       "version_major": 2,
       "version_minor": 0
      },
      "text/plain": [
       "Button(description='Reduce Grid', style=ButtonStyle())"
      ]
     },
     "metadata": {},
     "output_type": "display_data"
    },
    {
     "data": {
      "application/vnd.jupyter.widget-view+json": {
       "model_id": "cb99b3434f7d4347bc5fd150b1ce1eff",
       "version_major": 2,
       "version_minor": 0
      },
      "text/plain": [
       "Button(description='Solve!', style=ButtonStyle())"
      ]
     },
     "metadata": {},
     "output_type": "display_data"
    }
   ],
   "source": [
    "import ipywidgets as widgets\n",
    "from IPython.display import display, clear_output\n",
    "\n",
    "# Grid container\n",
    "grid_container = widgets.Output()\n",
    "\n",
    "# Initial grid size\n",
    "N = 3\n",
    "\n",
    "# Matrix Value\n",
    "init_matrix = [[0]*N for _ in range(N)]\n",
    "\n",
    "def create_grid(N):\n",
    "    children = []\n",
    "    for i in range(N):\n",
    "        row = []\n",
    "        for j in range(N):\n",
    "            float_widget = widgets.FloatText(value=0, layout=widgets.Layout(width='auto'))\n",
    "            row.append(float_widget)\n",
    "            children.append(float_widget)\n",
    "            \n",
    "            if j == N -2:\n",
    "                children.append(widgets.Label(value=f'x{j+1} ='))\n",
    "            elif j < N - 2:\n",
    "                children.append(widgets.Label(value=f'x{j+1} +'))\n",
    "            else:\n",
    "                children.append(widgets.Label(value=\"\"))\n",
    "        \n",
    "        init_matrix[i] = row  # Update the init_matrix row with widget references\n",
    "\n",
    "    return widgets.GridBox(\n",
    "        children=children,\n",
    "        layout=widgets.Layout(grid_template_columns=\"repeat({0}, 70px)\".format(N*2), grid_gap='5px')\n",
    "    )\n",
    "\n",
    "def expand_grid(button):\n",
    "    global N\n",
    "    N += 1\n",
    "    init_matrix.append([0]*N)  # Expand init_matrix when grid expands\n",
    "    with grid_container:\n",
    "        clear_output(wait=True)\n",
    "        display(create_grid(N))\n",
    "\n",
    "def reduce_grid(button):\n",
    "    global N\n",
    "    N -= 1\n",
    "    init_matrix.pop()  # Reduce init_matrix when grid reduces\n",
    "    with grid_container:\n",
    "        clear_output(wait=True)\n",
    "        display(create_grid(N))\n",
    "\n",
    "def solve(button):\n",
    "    # Access values from the widget references stored in init_matrix\n",
    "    [print(widget.value, end=' ') for row in init_matrix for widget in row]\n",
    "\n",
    "# Button to expand grid, reduce grid\n",
    "expand_button = widgets.Button(description=\"Expand Grid\")\n",
    "expand_button.on_click(expand_grid)\n",
    "reduce_button = widgets.Button(description=\"Reduce Grid\")\n",
    "reduce_button.on_click(reduce_grid)\n",
    "\n",
    "solve_button = widgets.Button(description=\"Solve!\")\n",
    "solve_button.on_click(solve)\n",
    "\n",
    "# Display initial grid and button\n",
    "with grid_container:\n",
    "    display(create_grid(N))\n",
    "\n",
    "display(grid_container, expand_button, reduce_button, solve_button)"
   ]
  },
  {
   "cell_type": "code",
   "execution_count": null,
   "metadata": {},
   "outputs": [],
   "source": [
    "# Python3 Implementation for Gauss-Jordan\n",
    "# Elimination Method\n",
    "M = 10\n",
    "\n",
    "# Function to print the matrix\n",
    "def PrintMatrix(a, n):\n",
    "\tfor i in range(n):\n",
    "\t\tprint(*a[i])\n",
    "\n",
    "# function to reduce matrix to reduced\n",
    "# row echelon form.\n",
    "def PerformOperation(a, n):\n",
    "\ti = 0\n",
    "\tj = 0\n",
    "\tk = 0\n",
    "\tc = 0\n",
    "\tflag = 0\n",
    "\tm = 0\n",
    "\tpro = 0\n",
    "\n",
    "\t# Performing elementary operations\n",
    "\tfor i in range(n):\n",
    "\t\tprint(\"\\nstep \", str(i+1), \":\")\n",
    "\t\tPrintMatrix(a,n)\n",
    "\t\tif (a[i][i] == 0):\n",
    "\n",
    "\t\t\tc = 1\n",
    "\t\t\twhile ((i + c) < n and a[i + c][i] == 0):\n",
    "\t\t\t\tc += 1\n",
    "\t\t\tif ((i + c) == n):\n",
    "\n",
    "\t\t\t\tflag = 1\n",
    "\t\t\t\tbreak\n",
    "\n",
    "\t\t\tj = i\n",
    "\t\t\tfor k in range(1 + n):\n",
    "\n",
    "\t\t\t\ttemp = a[j][k]\n",
    "\t\t\t\ta[j][k] = a[j+c][k]\n",
    "\t\t\t\ta[j+c][k] = temp\n",
    "\n",
    "\t\tfor j in range(n):\n",
    "            \n",
    "\t\t\t# Excluding all i == j\n",
    "\t\t\tif (i != j):\n",
    "\t\t\t\t# Converting Matrix to reduced row\n",
    "\t\t\t\t# echelon form(diagonal matrix)\n",
    "\t\t\t\tp = a[j][i] / a[i][i]\n",
    "\n",
    "\t\t\t\tk = 0\n",
    "\t\t\t\tfor k in range(n + 1):\n",
    "\t\t\t\t\ta[j][k] = a[j][k] - (a[i][k]) * p\n",
    "\t\t\t\t\n",
    "\n",
    "\treturn flag\n",
    "\n",
    "# Function to print the desired result\n",
    "# if unique solutions exists, otherwise\n",
    "# prints no solution or infinite solutions\n",
    "# depending upon the input given.\n",
    "def PrintResult(a, n, flag):\n",
    "\n",
    "\tprint(\"Result is : \")\n",
    "\n",
    "\tif (flag == 2):\n",
    "\t\tprint(\"Infinite Solutions Exists<br>\")\n",
    "\telif (flag == 3):\n",
    "\t\tprint(\"No Solution Exists<br>\")\n",
    "\n",
    "\t# Printing the solution by dividing constants by\n",
    "\t# their respective diagonal elements\n",
    "\telse:\n",
    "\t\tfor i in range(n):\n",
    "\t\t\tprint(a[i][n] / a[i][i], end=\" \")\n",
    "\n",
    "# To check whether infinite solutions\n",
    "# exists or no solution exists\n",
    "def CheckConsistency(a, n, flag):\n",
    "\n",
    "\t# flag == 2 for infinite solution\n",
    "\t# flag == 3 for No solution\n",
    "\tflag = 3\n",
    "\tfor i in range(n):\n",
    "\t\tsum = 0\n",
    "\t\tfor j in range(n):\n",
    "\t\t\tsum = sum + a[i][j]\n",
    "\t\tif (sum == a[i][j]):\n",
    "\t\t\tflag = 2\n",
    "\n",
    "\treturn flag\n",
    "\n",
    "# Driver code\n",
    "a = [[2, -1, -3, 0], [-1, 2, -3, 0], [1,1, 4, 0]]\n",
    "\n",
    "# Order of Matrix(n)\n",
    "n = 3\n",
    "flag = 0\n",
    "\n",
    "# Performing Matrix transformation\n",
    "flag = PerformOperation(a, n)\n",
    "\n",
    "if (flag == 1):\n",
    "\tflag = CheckConsistency(a, n, flag)\n",
    "\n",
    "# Printing Final Matrix\n",
    "print(\"Final Augmented Matrix is : \")\n",
    "PrintMatrix(a, n)\n",
    "print()\n",
    "\n",
    "# Printing Solutions(if exist)\n",
    "PrintResult(a, n, flag)\n",
    "\n",
    "# This code is contributed by phasing17\n"
   ]
  }
 ],
 "metadata": {
  "kernelspec": {
   "display_name": "Python 3 (ipykernel)",
   "language": "python",
   "name": "python3"
  },
  "language_info": {
   "codemirror_mode": {
    "name": "ipython",
    "version": 3
   },
   "file_extension": ".py",
   "mimetype": "text/x-python",
   "name": "python",
   "nbconvert_exporter": "python",
   "pygments_lexer": "ipython3",
   "version": "3.9.6"
  }
 },
 "nbformat": 4,
 "nbformat_minor": 4
}
